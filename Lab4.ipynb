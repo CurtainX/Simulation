{
 "cells": [
  {
   "cell_type": "code",
   "execution_count": 15,
   "metadata": {
    "collapsed": true
   },
   "outputs": [],
   "source": [
    "import numpy as np\n",
    "import pulp"
   ]
  },
  {
   "cell_type": "code",
   "execution_count": 16,
   "metadata": {
    "collapsed": true
   },
   "outputs": [],
   "source": [
    "model = pulp.LpProblem('Minimizing number of servers', pulp.LpMinimize)"
   ]
  },
  {
   "cell_type": "code",
   "execution_count": 17,
   "metadata": {
    "collapsed": true
   },
   "outputs": [],
   "source": [
    "N1 = pulp.LpVariable('N1', lowBound=0, cat='Integer')\n",
    "N2 = pulp.LpVariable('N2', lowBound=0, cat='Integer')\n",
    "N3 = pulp.LpVariable('N3', lowBound=0, cat='Integer')\n",
    "N4 = pulp.LpVariable('N4', lowBound=0, cat='Integer')\n",
    "N5 = pulp.LpVariable('N5', lowBound=0, cat='Integer')\n",
    "N6 = pulp.LpVariable('N6', lowBound=0, cat='Integer')\n",
    "N7 = pulp.LpVariable('N7', lowBound=0, cat='Integer')"
   ]
  },
  {
   "cell_type": "code",
   "execution_count": 18,
   "metadata": {
    "collapsed": true
   },
   "outputs": [],
   "source": [
    "SERVERS = [N1, N2, N3, N4, N5, N6, N7]"
   ]
  },
  {
   "cell_type": "code",
   "execution_count": 19,
   "metadata": {},
   "outputs": [],
   "source": [
    "model += np.sum(SERVERS)"
   ]
  },
  {
   "cell_type": "code",
   "execution_count": 20,
   "metadata": {},
   "outputs": [
    {
     "data": {
      "text/plain": [
       "Minimizing number of servers:\n",
       "MINIMIZE\n",
       "1*N1 + 1*N2 + 1*N3 + 1*N4 + 1*N5 + 1*N6 + 1*N7 + 0\n",
       "VARIABLES\n",
       "0 <= N1 Integer\n",
       "0 <= N2 Integer\n",
       "0 <= N3 Integer\n",
       "0 <= N4 Integer\n",
       "0 <= N5 Integer\n",
       "0 <= N6 Integer\n",
       "0 <= N7 Integer"
      ]
     },
     "execution_count": 20,
     "metadata": {},
     "output_type": "execute_result"
    }
   ],
   "source": [
    "model"
   ]
  },
  {
   "cell_type": "code",
   "execution_count": 21,
   "metadata": {
    "collapsed": true
   },
   "outputs": [],
   "source": [
    "model += N3+N4+2*N5>=20"
   ]
  },
  {
   "cell_type": "code",
   "execution_count": 22,
   "metadata": {},
   "outputs": [],
   "source": [
    "model += N2+N4+N6+2*N7 >=90"
   ]
  },
  {
   "cell_type": "code",
   "execution_count": 23,
   "metadata": {
    "collapsed": true
   },
   "outputs": [],
   "source": [
    "model += N1+N2>=15"
   ]
  },
  {
   "cell_type": "code",
   "execution_count": 24,
   "metadata": {},
   "outputs": [
    {
     "data": {
      "text/plain": [
       "Minimizing number of servers:\n",
       "MINIMIZE\n",
       "1*N1 + 1*N2 + 1*N3 + 1*N4 + 1*N5 + 1*N6 + 1*N7 + 0\n",
       "SUBJECT TO\n",
       "_C1: N3 + N4 + 2 N5 >= 20\n",
       "\n",
       "_C2: N2 + N4 + N6 + 2 N7 >= 90\n",
       "\n",
       "_C3: N1 + N2 >= 15\n",
       "\n",
       "VARIABLES\n",
       "0 <= N1 Integer\n",
       "0 <= N2 Integer\n",
       "0 <= N3 Integer\n",
       "0 <= N4 Integer\n",
       "0 <= N5 Integer\n",
       "0 <= N6 Integer\n",
       "0 <= N7 Integer"
      ]
     },
     "execution_count": 24,
     "metadata": {},
     "output_type": "execute_result"
    }
   ],
   "source": [
    "model"
   ]
  },
  {
   "cell_type": "code",
   "execution_count": 25,
   "metadata": {},
   "outputs": [
    {
     "data": {
      "text/plain": [
       "1"
      ]
     },
     "execution_count": 25,
     "metadata": {},
     "output_type": "execute_result"
    }
   ],
   "source": [
    "model.solve()"
   ]
  },
  {
   "cell_type": "code",
   "execution_count": 26,
   "metadata": {},
   "outputs": [
    {
     "data": {
      "text/plain": [
       "'Optimal'"
      ]
     },
     "execution_count": 26,
     "metadata": {},
     "output_type": "execute_result"
    }
   ],
   "source": [
    "pulp.LpStatus[model.status]"
   ]
  },
  {
   "cell_type": "markdown",
   "metadata": {},
   "source": [
    "# Number of Servers in Each Configuration"
   ]
  },
  {
   "cell_type": "code",
   "execution_count": 27,
   "metadata": {},
   "outputs": [
    {
     "name": "stdout",
     "output_type": "stream",
     "text": [
      "N1 : 0\n",
      "N2 : 16\n",
      "N3 : 0\n",
      "N4 : 0\n",
      "N5 : 10\n",
      "N6 : 0\n",
      "N7 : 37\n"
     ]
    }
   ],
   "source": [
    "for N in SERVERS:\n",
    "    print(N, ':', int(N.varValue))"
   ]
  },
  {
   "cell_type": "markdown",
   "metadata": {},
   "source": [
    "# Minimum Number of servers"
   ]
  },
  {
   "cell_type": "code",
   "execution_count": 28,
   "metadata": {
    "scrolled": true
   },
   "outputs": [
    {
     "data": {
      "text/plain": [
       "63"
      ]
     },
     "execution_count": 28,
     "metadata": {},
     "output_type": "execute_result"
    }
   ],
   "source": [
    "int(pulp.value(model.objective))"
   ]
  },
  {
   "cell_type": "markdown",
   "metadata": {},
   "source": [
    "# Number of Servers in Each Configuration\n",
    "<b>N1 : 0<br/></b>\n",
    "<b>N2 : 16<br/></b>\n",
    "<b>N3 : 0<br/></b>\n",
    "<b>N4 : 0<br/></b>\n",
    "<b>N5 : 10<br/></b>\n",
    "<b>N6 : 0<br/></b>\n",
    "<b>N7 : 37<br/></b>\n",
    "# Minimum Number of servers\n",
    "## 63"
   ]
  }
 ],
 "metadata": {
  "kernelspec": {
   "display_name": "Python 3",
   "language": "python",
   "name": "python3"
  },
  "language_info": {
   "codemirror_mode": {
    "name": "ipython",
    "version": 3
   },
   "file_extension": ".py",
   "mimetype": "text/x-python",
   "name": "python",
   "nbconvert_exporter": "python",
   "pygments_lexer": "ipython3",
   "version": "3.5.3"
  }
 },
 "nbformat": 4,
 "nbformat_minor": 2
}
