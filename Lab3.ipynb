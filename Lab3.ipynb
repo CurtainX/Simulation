{
 "cells": [
  {
   "cell_type": "code",
   "execution_count": 2,
   "metadata": {
    "collapsed": true
   },
   "outputs": [],
   "source": [
    "import random\n",
    "import numpy as np\n",
    "import matplotlib.pyplot as plt"
   ]
  },
  {
   "cell_type": "markdown",
   "metadata": {},
   "source": [
    "### VM1 1/2CPU\n",
    "### VM2 1/4CPU\n",
    "### VM3 1/8CPU"
   ]
  },
  {
   "cell_type": "code",
   "execution_count": 3,
   "metadata": {
    "collapsed": true
   },
   "outputs": [],
   "source": [
    "vm1cpu = 1/2\n",
    "vm2cpu = 1/4\n",
    "vm3cpu = 1/8"
   ]
  },
  {
   "cell_type": "code",
   "execution_count": 16,
   "metadata": {
    "collapsed": true
   },
   "outputs": [],
   "source": [
    "N = [10, 100, 1000]"
   ]
  },
  {
   "cell_type": "code",
   "execution_count": 5,
   "metadata": {
    "collapsed": true
   },
   "outputs": [],
   "source": [
    "lamda = 0.9"
   ]
  },
  {
   "cell_type": "code",
   "execution_count": 6,
   "metadata": {
    "collapsed": true
   },
   "outputs": [],
   "source": [
    "#Decide type of vm\n",
    "def getTypeVM():\n",
    "    vmRan=random.random()\n",
    "    cpu = 0\n",
    "    if(vmRan <= 1/3):\n",
    "        cpu = 1/2\n",
    "    elif(vmRan<=2/3):\n",
    "        cpu = 1/4\n",
    "    else:\n",
    "        cpu = 1/8\n",
    "    return cpu"
   ]
  },
  {
   "cell_type": "code",
   "execution_count": 7,
   "metadata": {
    "collapsed": true
   },
   "outputs": [],
   "source": [
    "def getNumberVMs(n):\n",
    "    vmno=0\n",
    "    for i in range(n):\n",
    "        if(random.random() <= lamda):\n",
    "            vmno+=1\n",
    "    return vmno"
   ]
  },
  {
   "cell_type": "code",
   "execution_count": 194,
   "metadata": {
    "collapsed": true
   },
   "outputs": [],
   "source": [
    "def checkdeparture(servers):\n",
    "    for m in range(len(servers)):\n",
    "        qLen = len(servers[m]['res'])\n",
    "        for j in range(qLen):\n",
    "            if(servers[m]['res'][j] == vm1cpu):\n",
    "                if(random.random() <= 1/10 ):\n",
    "                    del servers[m]['res'][j]\n",
    "                    del servers[m]['slot'][j]\n",
    "            elif(servers[m]['res'][j] == vm2cpu):\n",
    "                if(random.random() <= 1/8 ):\n",
    "                    del servers[m]['res'][j]\n",
    "                    del servers[m]['slot'][j]\n",
    "            elif(servers[m]['res'][j] == vm3cpu):\n",
    "                if(random.random() <= 1/30 ):\n",
    "                    del servers[m]['res'][j]\n",
    "                    del servers[m]['slot'][j]\n"
   ]
  },
  {
   "cell_type": "code",
   "execution_count": 183,
   "metadata": {
    "collapsed": true
   },
   "outputs": [],
   "source": [
    "def getONServers(servers):\n",
    "    server_count = 0\n",
    "    for s in servers:\n",
    "        if(len(s['res'])>0):\n",
    "            server_count += 1\n",
    "    return server_count"
   ]
  },
  {
   "cell_type": "markdown",
   "metadata": {},
   "source": [
    "# First Fit"
   ]
  },
  {
   "cell_type": "code",
   "execution_count": 195,
   "metadata": {},
   "outputs": [
    {
     "ename": "IndexError",
     "evalue": "list index out of range",
     "output_type": "error",
     "traceback": [
      "\u001b[0;31m---------------------------------------------------------------------------\u001b[0m",
      "\u001b[0;31mIndexError\u001b[0m                                Traceback (most recent call last)",
      "\u001b[0;32m<ipython-input-195-6aa3aa89847d>\u001b[0m in \u001b[0;36m<module>\u001b[0;34m()\u001b[0m\n\u001b[1;32m      4\u001b[0m \u001b[0;32mfor\u001b[0m \u001b[0mn\u001b[0m \u001b[0;32min\u001b[0m \u001b[0mN\u001b[0m\u001b[0;34m:\u001b[0m\u001b[0;34m\u001b[0m\u001b[0m\n\u001b[1;32m      5\u001b[0m     \u001b[0;32mfor\u001b[0m \u001b[0mi\u001b[0m \u001b[0;32min\u001b[0m \u001b[0mrange\u001b[0m\u001b[0;34m(\u001b[0m\u001b[0;36m10\u001b[0m\u001b[0;34m**\u001b[0m\u001b[0;36m2\u001b[0m\u001b[0;34m)\u001b[0m\u001b[0;34m:\u001b[0m\u001b[0;34m\u001b[0m\u001b[0m\n\u001b[0;32m----> 6\u001b[0;31m         \u001b[0mcheckdeparture\u001b[0m\u001b[0;34m(\u001b[0m\u001b[0mservers\u001b[0m\u001b[0;34m)\u001b[0m\u001b[0;34m\u001b[0m\u001b[0m\n\u001b[0m\u001b[1;32m      7\u001b[0m         \u001b[0;32mfor\u001b[0m \u001b[0mk\u001b[0m \u001b[0;32min\u001b[0m \u001b[0mrange\u001b[0m\u001b[0;34m(\u001b[0m\u001b[0mgetNumberVMs\u001b[0m\u001b[0;34m(\u001b[0m\u001b[0mn\u001b[0m\u001b[0;34m)\u001b[0m\u001b[0;34m)\u001b[0m\u001b[0;34m:\u001b[0m\u001b[0;34m\u001b[0m\u001b[0m\n\u001b[1;32m      8\u001b[0m             \u001b[0mrequestedRes\u001b[0m \u001b[0;34m=\u001b[0m \u001b[0mgetTypeVM\u001b[0m\u001b[0;34m(\u001b[0m\u001b[0;34m)\u001b[0m\u001b[0;34m\u001b[0m\u001b[0m\n",
      "\u001b[0;32m<ipython-input-194-685c1e4d7f4e>\u001b[0m in \u001b[0;36mcheckdeparture\u001b[0;34m(servers)\u001b[0m\n\u001b[1;32m      3\u001b[0m         \u001b[0mqLen\u001b[0m \u001b[0;34m=\u001b[0m \u001b[0mlen\u001b[0m\u001b[0;34m(\u001b[0m\u001b[0mservers\u001b[0m\u001b[0;34m[\u001b[0m\u001b[0mm\u001b[0m\u001b[0;34m]\u001b[0m\u001b[0;34m[\u001b[0m\u001b[0;34m'res'\u001b[0m\u001b[0;34m]\u001b[0m\u001b[0;34m)\u001b[0m\u001b[0;34m\u001b[0m\u001b[0m\n\u001b[1;32m      4\u001b[0m         \u001b[0;32mfor\u001b[0m \u001b[0mj\u001b[0m \u001b[0;32min\u001b[0m \u001b[0mrange\u001b[0m\u001b[0;34m(\u001b[0m\u001b[0mqLen\u001b[0m\u001b[0;34m)\u001b[0m\u001b[0;34m:\u001b[0m\u001b[0;34m\u001b[0m\u001b[0m\n\u001b[0;32m----> 5\u001b[0;31m             \u001b[0;32mif\u001b[0m\u001b[0;34m(\u001b[0m\u001b[0mservers\u001b[0m\u001b[0;34m[\u001b[0m\u001b[0mm\u001b[0m\u001b[0;34m]\u001b[0m\u001b[0;34m[\u001b[0m\u001b[0;34m'res'\u001b[0m\u001b[0;34m]\u001b[0m\u001b[0;34m[\u001b[0m\u001b[0mj\u001b[0m\u001b[0;34m]\u001b[0m \u001b[0;34m==\u001b[0m \u001b[0mvm1cpu\u001b[0m\u001b[0;34m)\u001b[0m\u001b[0;34m:\u001b[0m\u001b[0;34m\u001b[0m\u001b[0m\n\u001b[0m\u001b[1;32m      6\u001b[0m                 \u001b[0;32mif\u001b[0m\u001b[0;34m(\u001b[0m\u001b[0mrandom\u001b[0m\u001b[0;34m.\u001b[0m\u001b[0mrandom\u001b[0m\u001b[0;34m(\u001b[0m\u001b[0;34m)\u001b[0m \u001b[0;34m<=\u001b[0m \u001b[0;36m1\u001b[0m\u001b[0;34m/\u001b[0m\u001b[0;36m10\u001b[0m \u001b[0;34m)\u001b[0m\u001b[0;34m:\u001b[0m\u001b[0;34m\u001b[0m\u001b[0m\n\u001b[1;32m      7\u001b[0m                     \u001b[0;32mdel\u001b[0m \u001b[0mservers\u001b[0m\u001b[0;34m[\u001b[0m\u001b[0mm\u001b[0m\u001b[0;34m]\u001b[0m\u001b[0;34m[\u001b[0m\u001b[0;34m'res'\u001b[0m\u001b[0;34m]\u001b[0m\u001b[0;34m[\u001b[0m\u001b[0mj\u001b[0m\u001b[0;34m]\u001b[0m\u001b[0;34m\u001b[0m\u001b[0m\n",
      "\u001b[0;31mIndexError\u001b[0m: list index out of range"
     ]
    }
   ],
   "source": [
    "servers = []\n",
    "sever_num = []\n",
    "result=[]\n",
    "for n in N:\n",
    "    for i in range(10**2):\n",
    "        checkdeparture(servers)\n",
    "        for k in range(getNumberVMs(n)):\n",
    "            requestedRes = getTypeVM()\n",
    "            serverLen = len(servers)\n",
    "            if(serverLen == 0):\n",
    "                servers.append({'res' : [requestedRes],'slot' : [i]})\n",
    "            else:\n",
    "                found = False\n",
    "                for j in range(serverLen):\n",
    "                    res = np.sum(servers[j]['res'])+requestedRes\n",
    "                    if(res <= 1.0):\n",
    "                        servers[j]['res'].append(requestedRes)\n",
    "                        servers[j]['slot'].append(i)\n",
    "                        found = True\n",
    "                        break\n",
    "                if(not found):\n",
    "                    servers.append({'res': [requestedRes],'slot': [i]})\n",
    "\n",
    "        server_count = 0\n",
    "        for s in servers:\n",
    "            if(len(s['res'])>0):\n",
    "                server_count += 1\n",
    "        sever_num.append(server_count)\n",
    "    result.append(np.mean(sever_num))"
   ]
  },
  {
   "cell_type": "code",
   "execution_count": 188,
   "metadata": {},
   "outputs": [
    {
     "name": "stdout",
     "output_type": "stream",
     "text": [
      "[31.670000000000002, 169.06999999999999, 1117.6066666666666]\n"
     ]
    }
   ],
   "source": [
    "print(result)"
   ]
  },
  {
   "cell_type": "code",
   "execution_count": 187,
   "metadata": {},
   "outputs": [
    {
     "data": {
      "text/plain": [
       "[<matplotlib.lines.Line2D at 0x11767d8d0>]"
      ]
     },
     "execution_count": 187,
     "metadata": {},
     "output_type": "execute_result"
    }
   ],
   "source": [
    "plt.plot(result)"
   ]
  },
  {
   "cell_type": "code",
   "execution_count": 189,
   "metadata": {},
   "outputs": [
    {
     "data": {
      "image/png": "[encoded data removed]",
      "text/plain": [
       "<matplotlib.figure.Figure at 0x1175f2dd8>"
      ]
     },
     "metadata": {},
     "output_type": "display_data"
    }
   ],
   "source": [
    "plt.show()"
   ]
  },
  {
   "cell_type": "code",
   "execution_count": 10,
   "metadata": {},
   "outputs": [
    {
     "name": "stdout",
     "output_type": "stream",
     "text": [
      "37\n"
     ]
    }
   ],
   "source": [
    "print(getONServers(servers))"
   ]
  },
  {
   "cell_type": "code",
   "execution_count": 11,
   "metadata": {},
   "outputs": [
    {
     "data": {
      "text/plain": [
       "45"
      ]
     },
     "execution_count": 11,
     "metadata": {},
     "output_type": "execute_result"
    }
   ],
   "source": [
    "len(servers)"
   ]
  },
  {
   "cell_type": "code",
   "execution_count": 12,
   "metadata": {},
   "outputs": [
    {
     "data": {
      "text/plain": [
       "[{'res': [0.125, 0.125, 0.125, 0.125, 0.125, 0.125, 0.125, 0.125],\n",
       "  'slot': [9886, 9969, 9973, 9979, 9981, 9990, 9994, 9996]},\n",
       " {'res': [0.125, 0.125, 0.125, 0.125, 0.125, 0.125, 0.125, 0.125],\n",
       "  'slot': [9938, 9940, 9955, 9963, 9966, 9975, 9990, 9991]},\n",
       " {'res': [0.125, 0.125, 0.125, 0.125, 0.125, 0.125, 0.125, 0.125],\n",
       "  'slot': [9917, 9934, 9955, 9966, 9978, 9979, 9982, 9994]},\n",
       " {'res': [0.125, 0.125, 0.125, 0.125, 0.125, 0.125, 0.125, 0.125],\n",
       "  'slot': [9952, 9962, 9978, 9985, 9986, 9989, 9992, 9995]},\n",
       " {'res': [0.125, 0.125, 0.125, 0.125, 0.125, 0.125, 0.125, 0.125],\n",
       "  'slot': [9923, 9949, 9984, 9987, 9988, 9989, 9995, 9998]},\n",
       " {'res': [0.125, 0.125, 0.125, 0.25, 0.125, 0.125, 0.125],\n",
       "  'slot': [9952, 9968, 9980, 9995, 9995, 9996, 9997]},\n",
       " {'res': [0.125, 0.125, 0.125, 0.125, 0.125, 0.125, 0.125, 0.125],\n",
       "  'slot': [9921, 9948, 9961, 9967, 9986, 9986, 9993, 9996]},\n",
       " {'res': [0.125, 0.125, 0.125, 0.25, 0.125, 0.25],\n",
       "  'slot': [9939, 9966, 9970, 9990, 9993, 9998]},\n",
       " {'res': [0.125, 0.125, 0.125, 0.125, 0.125, 0.125, 0.125, 0.125],\n",
       "  'slot': [9971, 9974, 9982, 9987, 9988, 9992, 9996, 9998]},\n",
       " {'res': [0.125, 0.125, 0.125, 0.125, 0.125, 0.125, 0.25],\n",
       "  'slot': [9956, 9973, 9983, 9983, 9987, 9990, 9997]},\n",
       " {'res': [0.125, 0.125, 0.125, 0.125, 0.125, 0.125, 0.25],\n",
       "  'slot': [9962, 9963, 9971, 9986, 9992, 9998, 9999]},\n",
       " {'res': [0.125, 0.125, 0.125, 0.125, 0.25, 0.25],\n",
       "  'slot': [9926, 9935, 9936, 9985, 9991, 9999]},\n",
       " {'res': [0.125, 0.25, 0.25, 0.25, 0.125],\n",
       "  'slot': [9982, 9989, 9993, 9998, 9999]},\n",
       " {'res': [0.125, 0.125, 0.25, 0.125, 0.125, 0.25],\n",
       "  'slot': [9962, 9976, 9990, 9992, 9993, 9998]},\n",
       " {'res': [0.125, 0.25, 0.125, 0.25, 0.25],\n",
       "  'slot': [9976, 9990, 9993, 9996, 9998]},\n",
       " {'res': [0.125, 0.125, 0.25, 0.25, 0.25],\n",
       "  'slot': [9920, 9926, 9990, 9993, 9999]},\n",
       " {'res': [0.25, 0.5, 0.25], 'slot': [9978, 9991, 9999]},\n",
       " {'res': [0.125, 0.125, 0.25, 0.25, 0.25],\n",
       "  'slot': [9939, 9977, 9981, 9994, 9995]},\n",
       " {'res': [0.125, 0.5, 0.25, 0.125], 'slot': [9980, 9981, 9987, 9999]},\n",
       " {'res': [0.125, 0.125, 0.5, 0.125], 'slot': [9953, 9966, 9978, 9983]},\n",
       " {'res': [0.5, 0.25, 0.25], 'slot': [9992, 9997, 9999]},\n",
       " {'res': [0.5, 0.5], 'slot': [9986, 9989]},\n",
       " {'res': [0.25, 0.5, 0.25], 'slot': [9967, 9994, 9997]},\n",
       " {'res': [0.25, 0.5, 0.25], 'slot': [9983, 9992, 9995]},\n",
       " {'res': [0.5, 0.5], 'slot': [9987, 9998]},\n",
       " {'res': [0.125, 0.5, 0.25], 'slot': [9953, 9990, 9997]},\n",
       " {'res': [0.5, 0.5], 'slot': [9991, 9996]},\n",
       " {'res': [0.5, 0.5], 'slot': [9979, 9999]},\n",
       " {'res': [0.5, 0.5], 'slot': [9977, 9987]},\n",
       " {'res': [0.5, 0.5], 'slot': [9965, 9992]},\n",
       " {'res': [0.5, 0.5], 'slot': [9980, 9997]},\n",
       " {'res': [0.5, 0.5], 'slot': [9994, 9999]},\n",
       " {'res': [0.5, 0.5], 'slot': [9994, 9996]},\n",
       " {'res': [0.5, 0.5], 'slot': [9997, 9998]},\n",
       " {'res': [0.25, 0.5], 'slot': [9997, 9997]},\n",
       " {'res': [0.5], 'slot': [9999]},\n",
       " {'res': [], 'slot': []},\n",
       " {'res': [0.5], 'slot': [9983]},\n",
       " {'res': [], 'slot': []},\n",
       " {'res': [], 'slot': []},\n",
       " {'res': [], 'slot': []},\n",
       " {'res': [], 'slot': []},\n",
       " {'res': [], 'slot': []},\n",
       " {'res': [], 'slot': []},\n",
       " {'res': [], 'slot': []}]"
      ]
     },
     "execution_count": 12,
     "metadata": {},
     "output_type": "execute_result"
    }
   ],
   "source": [
    "servers"
   ]
  },
  {
   "cell_type": "code",
   "execution_count": 13,
   "metadata": {},
   "outputs": [
    {
     "data": {
      "text/plain": [
       "4"
      ]
     },
     "execution_count": 13,
     "metadata": {},
     "output_type": "execute_result"
    }
   ],
   "source": [
    "np.min(sever_num)"
   ]
  },
  {
   "cell_type": "code",
   "execution_count": 14,
   "metadata": {},
   "outputs": [
    {
     "data": {
      "text/plain": [
       "45"
      ]
     },
     "execution_count": 14,
     "metadata": {},
     "output_type": "execute_result"
    }
   ],
   "source": [
    "np.max(sever_num)"
   ]
  },
  {
   "cell_type": "code",
   "execution_count": 15,
   "metadata": {},
   "outputs": [
    {
     "data": {
      "text/plain": [
       "37.815899999999999"
      ]
     },
     "execution_count": 15,
     "metadata": {},
     "output_type": "execute_result"
    }
   ],
   "source": [
    "np.mean(sever_num)"
   ]
  },
  {
   "cell_type": "markdown",
   "metadata": {
    "collapsed": true
   },
   "source": [
    "# Best Fit"
   ]
  },
  {
   "cell_type": "code",
   "execution_count": 29,
   "metadata": {
    "collapsed": true
   },
   "outputs": [],
   "source": [
    "servers = []\n",
    "sever_num=[]\n",
    "result=[]\n",
    "for n in N:\n",
    "    for i in range(10**2):\n",
    "        checkdeparture(servers)\n",
    "        for k in range(getNumberVMs(n)):\n",
    "            requestedRes = getTypeVM()\n",
    "            serverLen = len(servers)\n",
    "            if(serverLen == 0):\n",
    "                servers.append({'res' : [requestedRes],'slot' : [i]})\n",
    "            else:\n",
    "                maxN = -1\n",
    "                maxI= -1\n",
    "                resholder = -1\n",
    "                found = False\n",
    "                for j in range(serverLen):\n",
    "                    res = np.sum(servers[j]['res']) + requestedRes\n",
    "                    if(res == 1.0):\n",
    "                        servers[j]['res'].append(requestedRes)\n",
    "                        servers[j]['slot'].append(i)\n",
    "    #                     print('1111111111111111')\n",
    "                        found = True\n",
    "                        break\n",
    "                    else:\n",
    "                        if(maxN < res and res <1):\n",
    "                            maxN = res\n",
    "                            resholder = requestedRes\n",
    "                            maxI = j\n",
    "    #                 print(\"#############\", j, maxN)\n",
    "                if(maxI != -1):\n",
    "                    servers[maxI]['res'].append(resholder)\n",
    "                    servers[maxI]['slot'].append(i)\n",
    "    #                 print('^^^^^^^^^^^^', maxI, '%%%%%%%%%', resholder, \"*******\", maxN)\n",
    "                    found = True\n",
    "    #             print(\"&&&&&&&&&&&&&&&&&&&&&&&&&&&&&&&\", maxI)\n",
    "                if(not found):\n",
    "    #                 print('22222222222')\n",
    "                    servers.append({'res': [requestedRes],'slot': [i]})\n",
    "    #             print()\n",
    "    #             print()\n",
    "        server_count = 0\n",
    "        for s in servers:\n",
    "            if(len(s['res'])>0):\n",
    "                server_count += 1\n",
    "        sever_num.append(server_count)\n",
    "    result.append(np.mean(sever_num))"
   ]
  },
  {
   "cell_type": "code",
   "execution_count": 30,
   "metadata": {},
   "outputs": [
    {
     "name": "stdout",
     "output_type": "stream",
     "text": [
      "[36.869999999999997, 182.51499999999999, 1180.04]\n"
     ]
    }
   ],
   "source": [
    "print(result)"
   ]
  },
  {
   "cell_type": "code",
   "execution_count": 17,
   "metadata": {},
   "outputs": [
    {
     "data": {
      "text/plain": [
       "[{'res': [0.125, 0.125, 0.125, 0.125, 0.125, 0.125, 0.125, 0.125],\n",
       "  'slot': [9933, 9944, 9957, 9958, 9987, 9989, 9997, 9998]},\n",
       " {'res': [0.125, 0.125, 0.125, 0.125, 0.125, 0.125, 0.125, 0.125],\n",
       "  'slot': [9854, 9883, 9939, 9941, 9965, 9980, 9981, 9995]},\n",
       " {'res': [0.125, 0.125, 0.125, 0.125, 0.125, 0.125, 0.125, 0.125],\n",
       "  'slot': [9931, 9934, 9973, 9977, 9995, 9996, 9998, 9999]},\n",
       " {'res': [0.125, 0.125, 0.125, 0.125, 0.125, 0.125, 0.125, 0.125],\n",
       "  'slot': [9917, 9951, 9971, 9977, 9979, 9989, 9992, 9996]},\n",
       " {'res': [0.125, 0.125, 0.125, 0.125, 0.125, 0.25, 0.125],\n",
       "  'slot': [9939, 9962, 9972, 9986, 9992, 9996, 9999]},\n",
       " {'res': [0.125, 0.125, 0.125, 0.125, 0.125, 0.125, 0.125, 0.125],\n",
       "  'slot': [9893, 9938, 9947, 9961, 9973, 9986, 9994, 9998]},\n",
       " {'res': [0.125, 0.125, 0.125, 0.125, 0.125, 0.125, 0.125, 0.125],\n",
       "  'slot': [9967, 9970, 9972, 9972, 9978, 9990, 9994, 9997]},\n",
       " {'res': [0.125, 0.125, 0.125, 0.125, 0.125, 0.125, 0.125, 0.125],\n",
       "  'slot': [9900, 9947, 9954, 9960, 9967, 9991, 9997, 9999]},\n",
       " {'res': [0.125, 0.125, 0.125, 0.125, 0.25, 0.125, 0.125],\n",
       "  'slot': [9928, 9936, 9989, 9990, 9991, 9994, 9997]},\n",
       " {'res': [0.125, 0.125, 0.125, 0.125, 0.125, 0.125, 0.25],\n",
       "  'slot': [9934, 9963, 9963, 9982, 9982, 9985, 9996]},\n",
       " {'res': [0.125, 0.125, 0.125, 0.125, 0.25, 0.25],\n",
       "  'slot': [9868, 9914, 9967, 9994, 9996, 9998]},\n",
       " {'res': [0.125, 0.125, 0.125, 0.125, 0.125, 0.25, 0.125],\n",
       "  'slot': [9958, 9969, 9969, 9969, 9992, 9994, 9995]},\n",
       " {'res': [0.125, 0.125, 0.25, 0.125, 0.25, 0.125],\n",
       "  'slot': [9970, 9978, 9981, 9986, 9997, 9999]},\n",
       " {'res': [0.125, 0.125, 0.125, 0.125, 0.125, 0.25],\n",
       "  'slot': [9868, 9949, 9959, 9959, 9970, 9999]},\n",
       " {'res': [0.125, 0.125, 0.125, 0.125, 0.125, 0.125, 0.25],\n",
       "  'slot': [9939, 9954, 9960, 9973, 9981, 9982, 9990]},\n",
       " {'res': [0.125, 0.25, 0.25, 0.25], 'slot': [9955, 9981, 9987, 9997]},\n",
       " {'res': [0.125, 0.25, 0.25, 0.25], 'slot': [9939, 9994, 9995, 9998]},\n",
       " {'res': [0.125, 0.125, 0.125, 0.5], 'slot': [9973, 9983, 9983, 9996]},\n",
       " {'res': [0.125, 0.125, 0.125, 0.125, 0.125, 0.25],\n",
       "  'slot': [9925, 9950, 9950, 9972, 9974, 9998]},\n",
       " {'res': [0.5, 0.5], 'slot': [9996, 9997]},\n",
       " {'res': [0.125, 0.125, 0.125, 0.5, 0.125],\n",
       "  'slot': [9925, 9925, 9959, 9973, 9982]},\n",
       " {'res': [0.125, 0.125, 0.125, 0.125, 0.25, 0.25],\n",
       "  'slot': [9926, 9961, 9961, 9962, 9975, 9998]},\n",
       " {'res': [0.25, 0.5, 0.25], 'slot': [9925, 9989, 9993]},\n",
       " {'res': [0.5, 0.5], 'slot': [9993, 9999]},\n",
       " {'res': [0.5, 0.5], 'slot': [9982, 9997]},\n",
       " {'res': [0.125, 0.25, 0.5], 'slot': [9961, 9995, 9996]},\n",
       " {'res': [0.5, 0.5], 'slot': [9983, 9995]},\n",
       " {'res': [0.5, 0.5], 'slot': [9990, 9997]},\n",
       " {'res': [0.125, 0.125, 0.25, 0.5], 'slot': [9963, 9964, 9993, 9994]},\n",
       " {'res': [0.5, 0.5], 'slot': [9985, 9995]},\n",
       " {'res': [0.5, 0.5], 'slot': [9987, 9990]},\n",
       " {'res': [0.5, 0.5], 'slot': [9984, 9998]},\n",
       " {'res': [0.5, 0.5], 'slot': [9992, 9993]},\n",
       " {'res': [0.25, 0.5, 0.25], 'slot': [9975, 9978, 9984]},\n",
       " {'res': [0.5, 0.25, 0.25], 'slot': [9980, 9995, 9998]},\n",
       " {'res': [0.5, 0.5], 'slot': [9981, 9999]},\n",
       " {'res': [0.5, 0.5], 'slot': [9989, 9996]},\n",
       " {'res': [0.5, 0.25, 0.25], 'slot': [9984, 9987, 9998]},\n",
       " {'res': [0.5, 0.5], 'slot': [9985, 9993]},\n",
       " {'res': [0.5, 0.5], 'slot': [9991, 9998]},\n",
       " {'res': [0.5, 0.5], 'slot': [9987, 9990]},\n",
       " {'res': [0.5, 0.5], 'slot': [9971, 9984]},\n",
       " {'res': [0.5, 0.5], 'slot': [9979, 9988]},\n",
       " {'res': [0.5, 0.5], 'slot': [9985, 9999]},\n",
       " {'res': [0.25, 0.5, 0.25], 'slot': [9986, 9992, 9999]},\n",
       " {'res': [0.5, 0.5], 'slot': [9988, 9996]},\n",
       " {'res': [0.5, 0.5], 'slot': [9991, 9996]},\n",
       " {'res': [0.5, 0.5], 'slot': [9992, 9993]},\n",
       " {'res': [0.5, 0.5], 'slot': [9992, 9994]},\n",
       " {'res': [0.5, 0.5], 'slot': [9999, 9999]},\n",
       " {'res': [], 'slot': []},\n",
       " {'res': [], 'slot': []},\n",
       " {'res': [], 'slot': []}]"
      ]
     },
     "execution_count": 17,
     "metadata": {},
     "output_type": "execute_result"
    }
   ],
   "source": [
    "servers"
   ]
  },
  {
   "cell_type": "code",
   "execution_count": 18,
   "metadata": {},
   "outputs": [
    {
     "data": {
      "text/plain": [
       "43.302300000000002"
      ]
     },
     "execution_count": 18,
     "metadata": {},
     "output_type": "execute_result"
    }
   ],
   "source": [
    "np.mean(sever_num)"
   ]
  },
  {
   "cell_type": "code",
   "execution_count": 182,
   "metadata": {},
   "outputs": [
    {
     "name": "stdout",
     "output_type": "stream",
     "text": [
      "2\n"
     ]
    }
   ],
   "source": []
  },
  {
   "cell_type": "code",
   "execution_count": 193,
   "metadata": {},
   "outputs": [
    {
     "data": {
      "image/png": "[encoded data removed]",
      "text/plain": [
       "<matplotlib.figure.Figure at 0x1177e3978>"
      ]
     },
     "metadata": {},
     "output_type": "display_data"
    }
   ],
   "source": [
    "plt.plot([31.670000000000002, 169.06999999999999, 1117.6066666666666], color ='c')\n",
    "plt.plot([36.869999999999997, 182.51499999999999, 1180.04], color='r')\n",
    "plt.show()"
   ]
  },
  {
   "cell_type": "code",
   "execution_count": null,
   "metadata": {
    "collapsed": true
   },
   "outputs": [],
   "source": []
  },
  {
   "cell_type": "code",
   "execution_count": 197,
   "metadata": {},
   "outputs": [
    {
     "data": {
      "text/plain": [
       "213"
      ]
     },
     "execution_count": 197,
     "metadata": {},
     "output_type": "execute_result"
    }
   ],
   "source": [
    "213"
   ]
  },
  {
   "cell_type": "code",
   "execution_count": null,
   "metadata": {
    "collapsed": true
   },
   "outputs": [],
   "source": []
  },
  {
   "cell_type": "code",
   "execution_count": 200,
   "metadata": {},
   "outputs": [
    {
     "name": "stdout",
     "output_type": "stream",
     "text": [
      "0 0 0\n",
      "0 0 1\n",
      "0 1 0\n",
      "0 1 1\n",
      "0 2 0\n",
      "1 0 0\n",
      "1 1 0\n",
      "2 0 0\n"
     ]
    }
   ],
   "source": [
    "for a in range(10):\n",
    "    for b in range(10):\n",
    "        for c in range(10):\n",
    "            if((a+3/4*b+2*c)<=3 and (a+2/3*b+4/3*c)<=2 and (2*a+2*b+c)<=4):\n",
    "                print(a, b, c)"
   ]
  },
  {
   "cell_type": "code",
   "execution_count": 202,
   "metadata": {},
   "outputs": [
    {
     "data": {
      "text/plain": [
       "array([  1,   3,   4,   5, 214])"
      ]
     },
     "execution_count": 202,
     "metadata": {},
     "output_type": "execute_result"
    }
   ],
   "source": [
    "np.sort([3,4,5,1,214])"
   ]
  },
  {
   "cell_type": "code",
   "execution_count": 203,
   "metadata": {
    "collapsed": true
   },
   "outputs": [],
   "source": [
    "lis=[{'res': [0.125, 0.125, 0.125, 0.125, 0.125, 0.125, 0.125],\n",
    "  'slot': [9969, 9973, 9979, 9981, 9990, 9994, 9996]},\n",
    " {'res': [0.125, 0.125, 0.125, 0.125, 0.125],\n",
    "  'slot': [9963, 9966, 9975, 9990, 9991]},\n",
    " {'res': [0.125, 0.125, 0.125, 0.125, 0.125],\n",
    "  'slot': [9966, 9978, 9979, 9982, 9994]},\n",
    " {'res': [0.125, 0.125, 0.125, 0.125, 0.125, 0.125, 0.125],\n",
    "  'slot': [9962, 9978, 9985, 9986, 9989, 9992, 9995]},\n",
    " {'res': [0.125, 0.125, 0.125, 0.125, 0.125, 0.125],\n",
    "  'slot': [9984, 9987, 9988, 9989, 9995, 9998]},\n",
    " {'res': [0.125, 0.125, 0.25, 0.125, 0.125, 0.125],\n",
    "  'slot': [9968, 9980, 9995, 9995, 9996, 9997]},\n",
    " {'res': [0.125, 0.125, 0.125, 0.125, 0.125, 0.125],\n",
    "  'slot': [9961, 9967, 9986, 9986, 9993, 9996]},\n",
    " {'res': [0.125, 0.125, 0.25, 0.125, 0.25],\n",
    "  'slot': [9966, 9970, 9990, 9993, 9998]},\n",
    " {'res': [0.125, 0.125, 0.125, 0.125, 0.125, 0.125, 0.125, 0.125],\n",
    "  'slot': [9971, 9974, 9982, 9987, 9988, 9992, 9996, 9998]},\n",
    " {'res': [0.125, 0.125, 0.125, 0.125, 0.125, 0.25],\n",
    "  'slot': [9973, 9983, 9983, 9987, 9990, 9997]}]"
   ]
  },
  {
   "cell_type": "code",
   "execution_count": 208,
   "metadata": {},
   "outputs": [],
   "source": [
    "lis=sorted(lis, key = lambda i: i['slot'])"
   ]
  },
  {
   "cell_type": "code",
   "execution_count": 209,
   "metadata": {},
   "outputs": [
    {
     "data": {
      "text/plain": [
       "[{'res': [0.125, 0.125, 0.125, 0.125, 0.125, 0.125],\n",
       "  'slot': [9961, 9967, 9986, 9986, 9993, 9996]},\n",
       " {'res': [0.125, 0.125, 0.125, 0.125, 0.125, 0.125, 0.125],\n",
       "  'slot': [9962, 9978, 9985, 9986, 9989, 9992, 9995]},\n",
       " {'res': [0.125, 0.125, 0.125, 0.125, 0.125],\n",
       "  'slot': [9963, 9966, 9975, 9990, 9991]},\n",
       " {'res': [0.125, 0.125, 0.25, 0.125, 0.25],\n",
       "  'slot': [9966, 9970, 9990, 9993, 9998]},\n",
       " {'res': [0.125, 0.125, 0.125, 0.125, 0.125],\n",
       "  'slot': [9966, 9978, 9979, 9982, 9994]},\n",
       " {'res': [0.125, 0.125, 0.25, 0.125, 0.125, 0.125],\n",
       "  'slot': [9968, 9980, 9995, 9995, 9996, 9997]},\n",
       " {'res': [0.125, 0.125, 0.125, 0.125, 0.125, 0.125, 0.125],\n",
       "  'slot': [9969, 9973, 9979, 9981, 9990, 9994, 9996]},\n",
       " {'res': [0.125, 0.125, 0.125, 0.125, 0.125, 0.125, 0.125, 0.125],\n",
       "  'slot': [9971, 9974, 9982, 9987, 9988, 9992, 9996, 9998]},\n",
       " {'res': [0.125, 0.125, 0.125, 0.125, 0.125, 0.25],\n",
       "  'slot': [9973, 9983, 9983, 9987, 9990, 9997]},\n",
       " {'res': [0.125, 0.125, 0.125, 0.125, 0.125, 0.125],\n",
       "  'slot': [9984, 9987, 9988, 9989, 9995, 9998]}]"
      ]
     },
     "execution_count": 209,
     "metadata": {},
     "output_type": "execute_result"
    }
   ],
   "source": [
    "lis"
   ]
  },
  {
   "cell_type": "code",
   "execution_count": null,
   "metadata": {
    "collapsed": true
   },
   "outputs": [],
   "source": []
  },
  {
   "cell_type": "code",
   "execution_count": 234,
   "metadata": {},
   "outputs": [],
   "source": [
    "servers= [[]]"
   ]
  },
  {
   "cell_type": "code",
   "execution_count": 232,
   "metadata": {},
   "outputs": [
    {
     "data": {
      "text/plain": [
       "[[]]"
      ]
     },
     "execution_count": 232,
     "metadata": {},
     "output_type": "execute_result"
    }
   ],
   "source": [
    "servers.append({''})"
   ]
  },
  {
   "cell_type": "code",
   "execution_count": 229,
   "metadata": {},
   "outputs": [
    {
     "data": {
      "text/plain": [
       "[[{'res': 1}, {'res': 1}, {'res': 2}], {'res': 2}]"
      ]
     },
     "execution_count": 229,
     "metadata": {},
     "output_type": "execute_result"
    }
   ],
   "source": [
    "servers"
   ]
  },
  {
   "cell_type": "code",
   "execution_count": null,
   "metadata": {
    "collapsed": true
   },
   "outputs": [],
   "source": []
  }
 ],
 "metadata": {
  "kernelspec": {
   "display_name": "Python 3",
   "language": "python",
   "name": "python3"
  },
  "language_info": {
   "codemirror_mode": {
    "name": "ipython",
    "version": 3
   },
   "file_extension": ".py",
   "mimetype": "text/x-python",
   "name": "python",
   "nbconvert_exporter": "python",
   "pygments_lexer": "ipython3",
   "version": "3.5.3"
  }
 },
 "nbformat": 4,
 "nbformat_minor": 2
}
